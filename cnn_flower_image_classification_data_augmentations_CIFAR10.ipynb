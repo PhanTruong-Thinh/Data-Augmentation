{
  "cells": [
    {
      "cell_type": "markdown",
      "metadata": {
        "id": "view-in-github",
        "colab_type": "text"
      },
      "source": [
        "<a href=\"https://colab.research.google.com/github/PhanTruong-Thinh/Data-Augmentation/blob/main/cnn_flower_image_classification_data_augmentations_CIFAR10.ipynb\" target=\"_parent\"><img src=\"https://colab.research.google.com/assets/colab-badge.svg\" alt=\"Open In Colab\"/></a>"
      ]
    },
    {
      "cell_type": "markdown",
      "metadata": {
        "id": "15Sxk3BOq7IK"
      },
      "source": [
        "<h2 style='color:blue' align='center'>Data Augmentation To Address Overfitting In Flower Classification CNN</h2>"
      ]
    },
    {
      "cell_type": "code",
      "execution_count": 1,
      "metadata": {
        "id": "EtsPSxb-q7IM"
      },
      "outputs": [],
      "source": [
        "import matplotlib.pyplot as plt\n",
        "import numpy as np\n",
        "import cv2\n",
        "import os\n",
        "import PIL\n",
        "import tensorflow as tf\n",
        "\n",
        "from tensorflow import keras\n",
        "from tensorflow.keras import layers\n",
        "from tensorflow.keras.models import Sequential"
      ]
    },
    {
      "cell_type": "markdown",
      "metadata": {
        "id": "IrgleiP5q7IP"
      },
      "source": [
        "<h3 style='color:purple'>Train test split</h3>"
      ]
    },
    {
      "cell_type": "code",
      "execution_count": 2,
      "metadata": {
        "id": "dTwiH5nyq7IP",
        "colab": {
          "base_uri": "https://localhost:8080/"
        },
        "outputId": "d84860fb-45dd-4641-cb4a-2062fa581e1f"
      },
      "outputs": [
        {
          "output_type": "stream",
          "name": "stdout",
          "text": [
            "Downloading data from https://www.cs.toronto.edu/~kriz/cifar-10-python.tar.gz\n",
            "170498071/170498071 [==============================] - 4s 0us/step\n"
          ]
        }
      ],
      "source": [
        "from sklearn.model_selection import train_test_split\n",
        "from keras import Sequential, datasets, Model, layers\n",
        "(X_train, y_train), (X_test, y_test) = datasets.cifar10.load_data()\n"
      ]
    },
    {
      "cell_type": "markdown",
      "metadata": {
        "id": "jYDOxoV-q7IP"
      },
      "source": [
        "<h3 style='color:purple'>Preprocessing: scale images</h3>"
      ]
    },
    {
      "cell_type": "code",
      "execution_count": 3,
      "metadata": {
        "id": "hh-Dovs0q7IP"
      },
      "outputs": [],
      "source": [
        "X_train_scaled = X_train.reshape(X_train.shape[0], 32, 32, 3).astype('float32') / 255\n",
        "X_test_scaled = X_test.reshape(X_test.shape[0], 32, 32, 3).astype('float32') / 255"
      ]
    },
    {
      "cell_type": "markdown",
      "metadata": {
        "id": "Y9fnq0Yoq7IP"
      },
      "source": [
        "<h3 style='color:purple'>Build convolutional neural network and train it</h3>"
      ]
    },
    {
      "cell_type": "code",
      "execution_count": 29,
      "metadata": {
        "colab": {
          "base_uri": "https://localhost:8080/"
        },
        "id": "qpdCUt3vq7IP",
        "outputId": "76240446-4cad-45c8-b785-1575e7d68b53"
      },
      "outputs": [
        {
          "output_type": "stream",
          "name": "stdout",
          "text": [
            "Epoch 1/30\n",
            "1563/1563 [==============================] - 8s 4ms/step - loss: 3.1058 - accuracy: 0.3432\n",
            "Epoch 2/30\n",
            "1563/1563 [==============================] - 6s 4ms/step - loss: 2.7749 - accuracy: 0.4327\n",
            "Epoch 3/30\n",
            "1563/1563 [==============================] - 7s 4ms/step - loss: 2.6640 - accuracy: 0.4625\n",
            "Epoch 4/30\n",
            "1563/1563 [==============================] - 6s 4ms/step - loss: 2.5914 - accuracy: 0.4818\n",
            "Epoch 5/30\n",
            "1563/1563 [==============================] - 7s 4ms/step - loss: 2.5389 - accuracy: 0.4947\n",
            "Epoch 6/30\n",
            "1563/1563 [==============================] - 6s 4ms/step - loss: 2.4980 - accuracy: 0.5051\n",
            "Epoch 7/30\n",
            "1563/1563 [==============================] - 7s 4ms/step - loss: 2.4678 - accuracy: 0.5113\n",
            "Epoch 8/30\n",
            "1563/1563 [==============================] - 6s 4ms/step - loss: 2.4324 - accuracy: 0.5196\n",
            "Epoch 9/30\n",
            "1563/1563 [==============================] - 7s 4ms/step - loss: 2.4048 - accuracy: 0.5250\n",
            "Epoch 10/30\n",
            "1563/1563 [==============================] - 7s 4ms/step - loss: 2.3853 - accuracy: 0.5300\n",
            "Epoch 11/30\n",
            "1563/1563 [==============================] - 7s 5ms/step - loss: 2.3623 - accuracy: 0.5341\n",
            "Epoch 12/30\n",
            "1563/1563 [==============================] - 6s 4ms/step - loss: 2.3465 - accuracy: 0.5379\n",
            "Epoch 13/30\n",
            "1563/1563 [==============================] - 7s 4ms/step - loss: 2.3234 - accuracy: 0.5418\n",
            "Epoch 14/30\n",
            "1563/1563 [==============================] - 6s 4ms/step - loss: 2.3099 - accuracy: 0.5443\n",
            "Epoch 15/30\n",
            "1563/1563 [==============================] - 7s 4ms/step - loss: 2.2932 - accuracy: 0.5488\n",
            "Epoch 16/30\n",
            "1563/1563 [==============================] - 6s 4ms/step - loss: 2.2773 - accuracy: 0.5502\n",
            "Epoch 17/30\n",
            "1563/1563 [==============================] - 7s 5ms/step - loss: 2.2635 - accuracy: 0.5542\n",
            "Epoch 18/30\n",
            "1563/1563 [==============================] - 6s 4ms/step - loss: 2.2562 - accuracy: 0.5544\n",
            "Epoch 19/30\n",
            "1563/1563 [==============================] - 7s 4ms/step - loss: 2.2415 - accuracy: 0.5580\n",
            "Epoch 20/30\n",
            "1563/1563 [==============================] - 6s 4ms/step - loss: 2.2300 - accuracy: 0.5597\n",
            "Epoch 21/30\n",
            "1563/1563 [==============================] - 7s 4ms/step - loss: 2.2197 - accuracy: 0.5621\n",
            "Epoch 22/30\n",
            "1563/1563 [==============================] - 6s 4ms/step - loss: 2.2084 - accuracy: 0.5636\n",
            "Epoch 23/30\n",
            "1563/1563 [==============================] - 7s 4ms/step - loss: 2.1953 - accuracy: 0.5665\n",
            "Epoch 24/30\n",
            "1563/1563 [==============================] - 6s 4ms/step - loss: 2.1939 - accuracy: 0.5656\n",
            "Epoch 25/30\n",
            "1563/1563 [==============================] - 7s 4ms/step - loss: 2.1809 - accuracy: 0.5690\n",
            "Epoch 26/30\n",
            "1563/1563 [==============================] - 6s 4ms/step - loss: 2.1776 - accuracy: 0.5685\n",
            "Epoch 27/30\n",
            "1563/1563 [==============================] - 7s 4ms/step - loss: 2.1656 - accuracy: 0.5711\n",
            "Epoch 28/30\n",
            "1563/1563 [==============================] - 6s 4ms/step - loss: 2.1601 - accuracy: 0.5712\n",
            "Epoch 29/30\n",
            "1563/1563 [==============================] - 7s 4ms/step - loss: 2.1561 - accuracy: 0.5714\n",
            "Epoch 30/30\n",
            "1563/1563 [==============================] - 6s 4ms/step - loss: 2.1430 - accuracy: 0.5744\n"
          ]
        },
        {
          "output_type": "execute_result",
          "data": {
            "text/plain": [
              "<keras.src.callbacks.History at 0x7c9c5a4b1b70>"
            ]
          },
          "metadata": {},
          "execution_count": 29
        }
      ],
      "source": [
        "\n",
        "model = Sequential([\n",
        "  layers.Conv2D(16, 3, padding='same', activation='relu', input_shape=(32, 32, 3)),\n",
        "  layers.MaxPooling2D(),\n",
        "  layers.Conv2D(32, 3, padding='same', activation='relu'),\n",
        "  layers.MaxPooling2D(),\n",
        "  layers.Conv2D(64, 3, padding='same', activation='relu'),\n",
        "  layers.MaxPooling2D(),\n",
        "  layers.Flatten(),\n",
        "  layers.Dense(128, activation='relu'),\n",
        "\n",
        "])\n",
        "\n",
        "model.compile(optimizer='adam',\n",
        "              loss=tf.keras.losses.SparseCategoricalCrossentropy(from_logits=True),\n",
        "              metrics=['accuracy'])\n",
        "\n",
        "model.fit(X_train_scaled, y_train, epochs=30)"
      ]
    },
    {
      "cell_type": "code",
      "execution_count": 30,
      "metadata": {
        "scrolled": true,
        "colab": {
          "base_uri": "https://localhost:8080/"
        },
        "id": "j3c_QSBfq7IQ",
        "outputId": "3943ec93-1c45-4e0f-c31f-244117563c6c"
      },
      "outputs": [
        {
          "output_type": "stream",
          "name": "stdout",
          "text": [
            "313/313 [==============================] - 1s 3ms/step - loss: 2.7182 - accuracy: 0.4922\n"
          ]
        },
        {
          "output_type": "execute_result",
          "data": {
            "text/plain": [
              "[2.7181804180145264, 0.49219998717308044]"
            ]
          },
          "metadata": {},
          "execution_count": 30
        }
      ],
      "source": [
        "model.evaluate(X_test_scaled,y_test)"
      ]
    },
    {
      "cell_type": "code",
      "execution_count": 16,
      "metadata": {
        "colab": {
          "base_uri": "https://localhost:8080/"
        },
        "id": "9NC2IfH4q7IQ",
        "outputId": "964d0802-cde9-474b-90ee-558346ecd64b"
      },
      "outputs": [
        {
          "output_type": "stream",
          "name": "stdout",
          "text": [
            "313/313 [==============================] - 1s 2ms/step\n"
          ]
        },
        {
          "output_type": "execute_result",
          "data": {
            "text/plain": [
              "array([[ 0.       ,  0.       ,  0.       , ...,  0.       ,  0.       ,\n",
              "         0.       ],\n",
              "       [ 0.       , 13.261097 ,  0.       , ...,  0.       ,  0.       ,\n",
              "         0.       ],\n",
              "       [ 0.       ,  0.       ,  0.       , ...,  0.       ,  0.       ,\n",
              "         0.       ],\n",
              "       ...,\n",
              "       [ 0.       ,  0.       ,  0.5341036, ...,  0.       ,  0.       ,\n",
              "         0.       ],\n",
              "       [ 0.       , 16.850548 ,  0.       , ...,  0.       ,  0.       ,\n",
              "         0.       ],\n",
              "       [ 0.       ,  0.       ,  5.053712 , ...,  0.       ,  0.       ,\n",
              "         0.       ]], dtype=float32)"
            ]
          },
          "metadata": {},
          "execution_count": 16
        }
      ],
      "source": [
        "predictions = model.predict(X_test_scaled)\n",
        "predictions"
      ]
    },
    {
      "cell_type": "code",
      "execution_count": null,
      "metadata": {
        "id": "3aC0rojnq7IQ"
      },
      "outputs": [],
      "source": [
        "score = tf.nn.softmax(predictions[0])"
      ]
    },
    {
      "cell_type": "code",
      "execution_count": null,
      "metadata": {
        "colab": {
          "base_uri": "https://localhost:8080/"
        },
        "id": "rn8kKe_eq7IQ",
        "outputId": "ab1d2cec-44b1-4388-fa57-4bafd5d4953d"
      },
      "outputs": [
        {
          "output_type": "execute_result",
          "data": {
            "text/plain": [
              "0"
            ]
          },
          "metadata": {},
          "execution_count": 26
        }
      ],
      "source": [
        "np.argmax(score)"
      ]
    },
    {
      "cell_type": "code",
      "execution_count": null,
      "metadata": {
        "colab": {
          "base_uri": "https://localhost:8080/"
        },
        "id": "5qkKXZFoq7IQ",
        "outputId": "39612808-9c21-4afd-dd81-4a9fa87e3914"
      },
      "outputs": [
        {
          "output_type": "execute_result",
          "data": {
            "text/plain": [
              "1"
            ]
          },
          "metadata": {},
          "execution_count": 27
        }
      ],
      "source": [
        "y_test[0]"
      ]
    },
    {
      "cell_type": "markdown",
      "metadata": {
        "id": "IKGmQGseq7IQ"
      },
      "source": [
        "<h3 style='color:purple'>Improve Test Accuracy Using Data Augmentation</h3>"
      ]
    },
    {
      "cell_type": "code",
      "execution_count": 24,
      "metadata": {
        "id": "b1bFRRqDq7IT"
      },
      "outputs": [],
      "source": [
        "data_augmentation = keras.Sequential(\n",
        "  [\n",
        "\n",
        "    layers.experimental.preprocessing.RandomRotation(0.2),\n",
        "    layers.experimental.preprocessing.RandomZoom(0.1),\n",
        "    layers.experimental.preprocessing.RandomContrast(factor=0.2),\n",
        "    layers.experimental.preprocessing.RandomTranslation(height_factor=0.1, width_factor=0.1),\n",
        "\n",
        "  ]\n",
        ")"
      ]
    },
    {
      "cell_type": "markdown",
      "metadata": {
        "id": "gcLGhj-Bq7IU"
      },
      "source": [
        "**Original Image**"
      ]
    },
    {
      "cell_type": "code",
      "execution_count": 25,
      "metadata": {
        "scrolled": false,
        "colab": {
          "base_uri": "https://localhost:8080/",
          "height": 423
        },
        "id": "3oYIRfcgq7IU",
        "outputId": "9a3176d5-fbbe-4f32-8b85-3c1f203b5485"
      },
      "outputs": [
        {
          "output_type": "execute_result",
          "data": {
            "text/plain": [
              "<matplotlib.image.AxesImage at 0x7c9c744738e0>"
            ]
          },
          "metadata": {},
          "execution_count": 25
        },
        {
          "output_type": "display_data",
          "data": {
            "text/plain": [
              "<Figure size 640x480 with 1 Axes>"
            ],
            "image/png": "[encoded data removed]"
          },
          "metadata": {}
        }
      ],
      "source": [
        "plt.axis('off')\n",
        "plt.imshow(X_train[0])"
      ]
    },
    {
      "cell_type": "markdown",
      "metadata": {
        "id": "7iMLHF3Dq7IU"
      },
      "source": [
        "**Newly generated training sample using data augmentation**"
      ]
    },
    {
      "cell_type": "code",
      "execution_count": 26,
      "metadata": {
        "scrolled": false,
        "colab": {
          "base_uri": "https://localhost:8080/",
          "height": 423
        },
        "id": "BLG58WDTq7IU",
        "outputId": "7265bcb2-300d-450d-dd2d-701fbac83f05"
      },
      "outputs": [
        {
          "output_type": "execute_result",
          "data": {
            "text/plain": [
              "<matplotlib.image.AxesImage at 0x7c9c743dd330>"
            ]
          },
          "metadata": {},
          "execution_count": 26
        },
        {
          "output_type": "display_data",
          "data": {
            "text/plain": [
              "<Figure size 640x480 with 1 Axes>"
            ],
            "image/png": "[encoded data removed]"
          },
          "metadata": {}
        }
      ],
      "source": [
        "plt.axis('off')\n",
        "plt.imshow(data_augmentation(X_train)[0].numpy().astype(\"uint8\"))"
      ]
    },
    {
      "cell_type": "markdown",
      "metadata": {
        "id": "Z_PSNfhaq7IU"
      },
      "source": [
        "<h3 style='color:purple'>Train the model using data augmentation and a drop out layer</h3>"
      ]
    },
    {
      "cell_type": "code",
      "execution_count": 27,
      "metadata": {
        "scrolled": false,
        "colab": {
          "base_uri": "https://localhost:8080/"
        },
        "id": "jPTLaBTQq7IU",
        "outputId": "46823d7b-fd0f-4b95-ab1f-0d64334b80a5"
      },
      "outputs": [
        {
          "output_type": "stream",
          "name": "stdout",
          "text": [
            "Epoch 1/30\n",
            "1563/1563 [==============================] - 12s 6ms/step - loss: 2.4144 - accuracy: 0.2902\n",
            "Epoch 2/30\n",
            "1563/1563 [==============================] - 9s 6ms/step - loss: 2.1753 - accuracy: 0.3693\n",
            "Epoch 3/30\n",
            "1563/1563 [==============================] - 9s 6ms/step - loss: 2.0988 - accuracy: 0.3952\n",
            "Epoch 4/30\n",
            "1563/1563 [==============================] - 10s 6ms/step - loss: 2.0369 - accuracy: 0.4156\n",
            "Epoch 5/30\n",
            "1563/1563 [==============================] - 10s 6ms/step - loss: 1.9902 - accuracy: 0.4324\n",
            "Epoch 6/30\n",
            "1563/1563 [==============================] - 9s 6ms/step - loss: 1.9491 - accuracy: 0.4469\n",
            "Epoch 7/30\n",
            "1563/1563 [==============================] - 10s 6ms/step - loss: 1.9123 - accuracy: 0.4584\n",
            "Epoch 8/30\n",
            "1563/1563 [==============================] - 10s 6ms/step - loss: 1.8850 - accuracy: 0.4655\n",
            "Epoch 9/30\n",
            "1563/1563 [==============================] - 10s 6ms/step - loss: 1.8567 - accuracy: 0.4757\n",
            "Epoch 10/30\n",
            "1563/1563 [==============================] - 9s 6ms/step - loss: 1.8373 - accuracy: 0.4846\n",
            "Epoch 11/30\n",
            "1563/1563 [==============================] - 10s 6ms/step - loss: 1.8137 - accuracy: 0.4891\n",
            "Epoch 12/30\n",
            "1563/1563 [==============================] - 10s 6ms/step - loss: 1.7952 - accuracy: 0.4957\n",
            "Epoch 13/30\n",
            "1563/1563 [==============================] - 10s 6ms/step - loss: 1.7830 - accuracy: 0.4980\n",
            "Epoch 14/30\n",
            "1563/1563 [==============================] - 9s 6ms/step - loss: 1.7706 - accuracy: 0.5034\n",
            "Epoch 15/30\n",
            "1563/1563 [==============================] - 10s 6ms/step - loss: 1.7600 - accuracy: 0.5070\n",
            "Epoch 16/30\n",
            "1563/1563 [==============================] - 11s 7ms/step - loss: 1.7515 - accuracy: 0.5113\n",
            "Epoch 17/30\n",
            "1563/1563 [==============================] - 10s 6ms/step - loss: 1.7395 - accuracy: 0.5145\n",
            "Epoch 18/30\n",
            "1563/1563 [==============================] - 9s 6ms/step - loss: 1.7387 - accuracy: 0.5144\n",
            "Epoch 19/30\n",
            "1563/1563 [==============================] - 10s 6ms/step - loss: 1.7322 - accuracy: 0.5188\n",
            "Epoch 20/30\n",
            "1563/1563 [==============================] - 10s 6ms/step - loss: 1.7185 - accuracy: 0.5223\n",
            "Epoch 21/30\n",
            "1563/1563 [==============================] - 11s 7ms/step - loss: 1.7113 - accuracy: 0.5223\n",
            "Epoch 22/30\n",
            "1563/1563 [==============================] - 10s 6ms/step - loss: 1.7072 - accuracy: 0.5235\n",
            "Epoch 23/30\n",
            "1563/1563 [==============================] - 10s 6ms/step - loss: 1.7032 - accuracy: 0.5248\n",
            "Epoch 24/30\n",
            "1563/1563 [==============================] - 10s 6ms/step - loss: 1.6932 - accuracy: 0.5276\n",
            "Epoch 25/30\n",
            "1563/1563 [==============================] - 10s 6ms/step - loss: 1.6949 - accuracy: 0.5308\n",
            "Epoch 26/30\n",
            "1563/1563 [==============================] - 9s 6ms/step - loss: 1.6927 - accuracy: 0.5301\n",
            "Epoch 27/30\n",
            "1563/1563 [==============================] - 10s 6ms/step - loss: 1.6851 - accuracy: 0.5309\n",
            "Epoch 28/30\n",
            "1563/1563 [==============================] - 10s 6ms/step - loss: 1.6820 - accuracy: 0.5301\n",
            "Epoch 29/30\n",
            "1563/1563 [==============================] - 10s 6ms/step - loss: 1.6797 - accuracy: 0.5325\n",
            "Epoch 30/30\n",
            "1563/1563 [==============================] - 9s 6ms/step - loss: 1.6730 - accuracy: 0.5356\n"
          ]
        },
        {
          "output_type": "execute_result",
          "data": {
            "text/plain": [
              "<keras.src.callbacks.History at 0x7c9c74196ce0>"
            ]
          },
          "metadata": {},
          "execution_count": 27
        }
      ],
      "source": [
        "\n",
        "model = Sequential([\n",
        "  data_augmentation,\n",
        "  layers.Conv2D(16, 3, padding='same', activation='relu'),\n",
        "  layers.MaxPooling2D(),\n",
        "  layers.Conv2D(32, 3, padding='same', activation='relu'),\n",
        "  layers.MaxPooling2D(),\n",
        "  layers.Conv2D(64, 3, padding='same', activation='relu'),\n",
        "  layers.MaxPooling2D(),\n",
        "  layers.Dropout(0.2),\n",
        "  layers.Flatten(),\n",
        "  layers.Dense(128, activation='relu'),\n",
        "\n",
        "])\n",
        "\n",
        "model.compile(optimizer='adam',\n",
        "              loss=tf.keras.losses.SparseCategoricalCrossentropy(from_logits=True),\n",
        "              metrics=['accuracy'])\n",
        "\n",
        "model.fit(X_train_scaled, y_train, epochs=30)"
      ]
    },
    {
      "cell_type": "code",
      "execution_count": 28,
      "metadata": {
        "colab": {
          "base_uri": "https://localhost:8080/"
        },
        "id": "qmoD6eu0q7IU",
        "outputId": "7dc33cc7-da43-42ac-d77c-008d1ef17962"
      },
      "outputs": [
        {
          "output_type": "stream",
          "name": "stdout",
          "text": [
            "313/313 [==============================] - 1s 3ms/step - loss: 1.5598 - accuracy: 0.5747\n"
          ]
        },
        {
          "output_type": "execute_result",
          "data": {
            "text/plain": [
              "[1.5598304271697998, 0.5746999979019165]"
            ]
          },
          "metadata": {},
          "execution_count": 28
        }
      ],
      "source": [
        "model.evaluate(X_test_scaled,y_test)"
      ]
    }
  ],
  "metadata": {
    "kernelspec": {
      "display_name": "Python 3",
      "name": "python3"
    },
    "language_info": {
      "codemirror_mode": {
        "name": "ipython",
        "version": 3
      },
      "file_extension": ".py",
      "mimetype": "text/x-python",
      "name": "python",
      "nbconvert_exporter": "python",
      "pygments_lexer": "ipython3",
      "version": "3.8.5"
    },
    "colab": {
      "provenance": [],
      "gpuType": "T4",
      "include_colab_link": true
    },
    "accelerator": "GPU"
  },
  "nbformat": 4,
  "nbformat_minor": 0
}