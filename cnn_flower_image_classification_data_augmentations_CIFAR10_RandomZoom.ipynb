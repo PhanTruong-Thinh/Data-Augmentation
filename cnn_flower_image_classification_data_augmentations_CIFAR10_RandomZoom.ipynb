{
  "cells": [
    {
      "cell_type": "markdown",
      "metadata": {
        "id": "view-in-github",
        "colab_type": "text"
      },
      "source": [
        "<a href=\"https://colab.research.google.com/github/PhanTruong-Thinh/Data-Augmentation/blob/main/cnn_flower_image_classification_data_augmentations_CIFAR10_RandomZoom.ipynb\" target=\"_parent\"><img src=\"https://colab.research.google.com/assets/colab-badge.svg\" alt=\"Open In Colab\"/></a>"
      ]
    },
    {
      "cell_type": "markdown",
      "metadata": {
        "id": "15Sxk3BOq7IK"
      },
      "source": [
        "<h2 style='color:blue' align='center'>Data Augmentation To Address Overfitting In Flower Classification CNN</h2>"
      ]
    },
    {
      "cell_type": "code",
      "execution_count": 1,
      "metadata": {
        "id": "EtsPSxb-q7IM"
      },
      "outputs": [],
      "source": [
        "import matplotlib.pyplot as plt\n",
        "import numpy as np\n",
        "import cv2\n",
        "import os\n",
        "import PIL\n",
        "import tensorflow as tf\n",
        "\n",
        "from tensorflow import keras\n",
        "from tensorflow.keras import layers\n",
        "from tensorflow.keras.models import Sequential"
      ]
    },
    {
      "cell_type": "markdown",
      "metadata": {
        "id": "IrgleiP5q7IP"
      },
      "source": [
        "<h3 style='color:purple'>Train test split</h3>"
      ]
    },
    {
      "cell_type": "code",
      "execution_count": 2,
      "metadata": {
        "id": "dTwiH5nyq7IP",
        "colab": {
          "base_uri": "https://localhost:8080/"
        },
        "outputId": "d84860fb-45dd-4641-cb4a-2062fa581e1f"
      },
      "outputs": [
        {
          "output_type": "stream",
          "name": "stdout",
          "text": [
            "Downloading data from https://www.cs.toronto.edu/~kriz/cifar-10-python.tar.gz\n",
            "170498071/170498071 [==============================] - 4s 0us/step\n"
          ]
        }
      ],
      "source": [
        "from sklearn.model_selection import train_test_split\n",
        "from keras import Sequential, datasets, Model, layers\n",
        "(X_train, y_train), (X_test, y_test) = datasets.cifar10.load_data()\n"
      ]
    },
    {
      "cell_type": "markdown",
      "metadata": {
        "id": "jYDOxoV-q7IP"
      },
      "source": [
        "<h3 style='color:purple'>Preprocessing: scale images</h3>"
      ]
    },
    {
      "cell_type": "code",
      "execution_count": 3,
      "metadata": {
        "id": "hh-Dovs0q7IP"
      },
      "outputs": [],
      "source": [
        "X_train_scaled = X_train.reshape(X_train.shape[0], 32, 32, 3).astype('float32') / 255\n",
        "X_test_scaled = X_test.reshape(X_test.shape[0], 32, 32, 3).astype('float32') / 255"
      ]
    },
    {
      "cell_type": "markdown",
      "metadata": {
        "id": "Y9fnq0Yoq7IP"
      },
      "source": [
        "<h3 style='color:purple'>Build convolutional neural network and train it</h3>"
      ]
    },
    {
      "cell_type": "code",
      "execution_count": null,
      "metadata": {
        "colab": {
          "base_uri": "https://localhost:8080/"
        },
        "id": "qpdCUt3vq7IP",
        "outputId": "87d7a684-6200-4f86-9e5c-3b861e2efe1b"
      },
      "outputs": [
        {
          "output_type": "stream",
          "name": "stdout",
          "text": [
            "Epoch 1/30\n",
            "1563/1563 [==============================] - 15s 6ms/step - loss: 2.4344 - accuracy: 0.4188\n",
            "Epoch 2/30\n",
            "1563/1563 [==============================] - 8s 5ms/step - loss: 2.0397 - accuracy: 0.5500\n",
            "Epoch 3/30\n",
            "1563/1563 [==============================] - 7s 4ms/step - loss: 1.7574 - accuracy: 0.6003\n",
            "Epoch 4/30\n",
            "1563/1563 [==============================] - 7s 4ms/step - loss: 1.4258 - accuracy: 0.6451\n",
            "Epoch 5/30\n",
            "1563/1563 [==============================] - 7s 4ms/step - loss: 1.3494 - accuracy: 0.6680\n",
            "Epoch 6/30\n",
            "1563/1563 [==============================] - 7s 4ms/step - loss: 1.2927 - accuracy: 0.6806\n",
            "Epoch 7/30\n",
            "1563/1563 [==============================] - 7s 5ms/step - loss: 1.2488 - accuracy: 0.6951\n",
            "Epoch 8/30\n",
            "1563/1563 [==============================] - 7s 4ms/step - loss: 1.2152 - accuracy: 0.7043\n",
            "Epoch 9/30\n",
            "1563/1563 [==============================] - 9s 6ms/step - loss: 1.1777 - accuracy: 0.7164\n",
            "Epoch 10/30\n",
            "1563/1563 [==============================] - 7s 4ms/step - loss: 1.1548 - accuracy: 0.7208\n",
            "Epoch 11/30\n",
            "1563/1563 [==============================] - 7s 5ms/step - loss: 1.1234 - accuracy: 0.7314\n",
            "Epoch 12/30\n",
            "1563/1563 [==============================] - 6s 4ms/step - loss: 1.1038 - accuracy: 0.7364\n",
            "Epoch 13/30\n",
            "1563/1563 [==============================] - 7s 5ms/step - loss: 1.0800 - accuracy: 0.7434\n",
            "Epoch 14/30\n",
            "1563/1563 [==============================] - 6s 4ms/step - loss: 1.0635 - accuracy: 0.7474\n",
            "Epoch 15/30\n",
            "1563/1563 [==============================] - 7s 5ms/step - loss: 1.0485 - accuracy: 0.7522\n",
            "Epoch 16/30\n",
            "1563/1563 [==============================] - 6s 4ms/step - loss: 1.0279 - accuracy: 0.7583\n",
            "Epoch 17/30\n",
            "1563/1563 [==============================] - 7s 5ms/step - loss: 1.0108 - accuracy: 0.7639\n",
            "Epoch 18/30\n",
            "1563/1563 [==============================] - 6s 4ms/step - loss: 1.0006 - accuracy: 0.7639\n",
            "Epoch 19/30\n",
            "1563/1563 [==============================] - 7s 5ms/step - loss: 0.9834 - accuracy: 0.7706\n",
            "Epoch 20/30\n",
            "1563/1563 [==============================] - 6s 4ms/step - loss: 0.9707 - accuracy: 0.7734\n",
            "Epoch 21/30\n",
            "1563/1563 [==============================] - 7s 5ms/step - loss: 0.9539 - accuracy: 0.7794\n",
            "Epoch 22/30\n",
            "1563/1563 [==============================] - 6s 4ms/step - loss: 0.9431 - accuracy: 0.7800\n",
            "Epoch 23/30\n",
            "1563/1563 [==============================] - 7s 5ms/step - loss: 0.9307 - accuracy: 0.7859\n",
            "Epoch 24/30\n",
            "1563/1563 [==============================] - 6s 4ms/step - loss: 0.9194 - accuracy: 0.7873\n",
            "Epoch 25/30\n",
            "1563/1563 [==============================] - 7s 5ms/step - loss: 0.9069 - accuracy: 0.7913\n",
            "Epoch 26/30\n",
            "1563/1563 [==============================] - 6s 4ms/step - loss: 0.9006 - accuracy: 0.7913\n",
            "Epoch 27/30\n",
            "1563/1563 [==============================] - 7s 5ms/step - loss: 0.8871 - accuracy: 0.7959\n",
            "Epoch 28/30\n",
            "1563/1563 [==============================] - 6s 4ms/step - loss: 0.8816 - accuracy: 0.7977\n",
            "Epoch 29/30\n",
            "1563/1563 [==============================] - 7s 5ms/step - loss: 0.8728 - accuracy: 0.8001\n",
            "Epoch 30/30\n",
            "1563/1563 [==============================] - 6s 4ms/step - loss: 0.8669 - accuracy: 0.8020\n"
          ]
        },
        {
          "output_type": "execute_result",
          "data": {
            "text/plain": [
              "<keras.src.callbacks.History at 0x7b3ba72fe830>"
            ]
          },
          "metadata": {},
          "execution_count": 4
        }
      ],
      "source": [
        "\n",
        "model = Sequential([\n",
        "  layers.Conv2D(16, 3, padding='same', activation='relu', input_shape=(32, 32, 3)),\n",
        "  layers.MaxPooling2D(),\n",
        "  layers.Conv2D(32, 3, padding='same', activation='relu'),\n",
        "  layers.MaxPooling2D(),\n",
        "  layers.Conv2D(64, 3, padding='same', activation='relu'),\n",
        "  layers.MaxPooling2D(),\n",
        "  layers.Flatten(),\n",
        "  layers.Dense(128, activation='relu'),\n",
        "\n",
        "])\n",
        "\n",
        "model.compile(optimizer='adam',\n",
        "              loss=tf.keras.losses.SparseCategoricalCrossentropy(from_logits=True),\n",
        "              metrics=['accuracy'])\n",
        "\n",
        "model.fit(X_train_scaled, y_train, epochs=30)"
      ]
    },
    {
      "cell_type": "code",
      "execution_count": null,
      "metadata": {
        "scrolled": true,
        "colab": {
          "base_uri": "https://localhost:8080/"
        },
        "id": "j3c_QSBfq7IQ",
        "outputId": "da9f59d5-2232-4ea6-ea4e-3027b95b81ab"
      },
      "outputs": [
        {
          "output_type": "stream",
          "name": "stdout",
          "text": [
            "313/313 [==============================] - 1s 4ms/step - loss: 1.6110 - accuracy: 0.6685\n"
          ]
        },
        {
          "output_type": "execute_result",
          "data": {
            "text/plain": [
              "[1.6110252141952515, 0.6685000061988831]"
            ]
          },
          "metadata": {},
          "execution_count": 5
        }
      ],
      "source": [
        "model.evaluate(X_test_scaled,y_test)"
      ]
    },
    {
      "cell_type": "markdown",
      "metadata": {
        "id": "yRQf65kWq7IQ"
      },
      "source": [
        "**Here we see that while train accuracy is very high (99%), the test accuracy is significantly low (66.99%) indicating overfitting. Let's make some predictions before we use data augmentation to address overfitting**"
      ]
    },
    {
      "cell_type": "code",
      "execution_count": null,
      "metadata": {
        "colab": {
          "base_uri": "https://localhost:8080/"
        },
        "id": "9NC2IfH4q7IQ",
        "outputId": "e557640e-b37c-4a46-f07f-f1bb03b3c235"
      },
      "outputs": [
        {
          "output_type": "stream",
          "name": "stdout",
          "text": [
            "313/313 [==============================] - 1s 2ms/step\n"
          ]
        },
        {
          "output_type": "execute_result",
          "data": {
            "text/plain": [
              "array([[ 0.78056073,  0.        ,  0.        , ...,  0.        ,\n",
              "         0.        ,  0.        ],\n",
              "       [20.9949    , 19.850567  ,  0.        , ...,  0.        ,\n",
              "         0.        ,  0.        ],\n",
              "       [ 7.488945  ,  7.854713  ,  0.        , ...,  0.        ,\n",
              "         0.        ,  0.        ],\n",
              "       ...,\n",
              "       [ 0.        ,  0.        ,  0.        , ...,  0.        ,\n",
              "         0.        ,  0.        ],\n",
              "       [ 4.482627  , 13.694426  ,  0.        , ...,  0.        ,\n",
              "         0.        ,  0.        ],\n",
              "       [ 0.        ,  0.        ,  0.        , ...,  0.        ,\n",
              "         0.        ,  0.        ]], dtype=float32)"
            ]
          },
          "metadata": {},
          "execution_count": 6
        }
      ],
      "source": [
        "predictions = model.predict(X_test_scaled)\n",
        "predictions"
      ]
    },
    {
      "cell_type": "code",
      "execution_count": null,
      "metadata": {
        "id": "3aC0rojnq7IQ"
      },
      "outputs": [],
      "source": [
        "score = tf.nn.softmax(predictions[0])"
      ]
    },
    {
      "cell_type": "code",
      "execution_count": null,
      "metadata": {
        "colab": {
          "base_uri": "https://localhost:8080/"
        },
        "id": "rn8kKe_eq7IQ",
        "outputId": "ab1d2cec-44b1-4388-fa57-4bafd5d4953d"
      },
      "outputs": [
        {
          "output_type": "execute_result",
          "data": {
            "text/plain": [
              "0"
            ]
          },
          "metadata": {},
          "execution_count": 26
        }
      ],
      "source": [
        "np.argmax(score)"
      ]
    },
    {
      "cell_type": "code",
      "execution_count": null,
      "metadata": {
        "colab": {
          "base_uri": "https://localhost:8080/"
        },
        "id": "5qkKXZFoq7IQ",
        "outputId": "39612808-9c21-4afd-dd81-4a9fa87e3914"
      },
      "outputs": [
        {
          "output_type": "execute_result",
          "data": {
            "text/plain": [
              "1"
            ]
          },
          "metadata": {},
          "execution_count": 27
        }
      ],
      "source": [
        "y_test[0]"
      ]
    },
    {
      "cell_type": "markdown",
      "metadata": {
        "id": "IKGmQGseq7IQ"
      },
      "source": [
        "<h3 style='color:purple'>Improve Test Accuracy Using Data Augmentation</h3>"
      ]
    },
    {
      "cell_type": "code",
      "execution_count": 4,
      "metadata": {
        "id": "b1bFRRqDq7IT"
      },
      "outputs": [],
      "source": [
        "data_augmentation = keras.Sequential(\n",
        "  [\n",
        "\n",
        "    # layers.experimental.preprocessing.RandomRotation(0.2),\n",
        "    layers.experimental.preprocessing.RandomZoom(0.1),\n",
        "    # layers.experimental.preprocessing.RandomContrast(factor=0.2),\n",
        "    # layers.experimental.preprocessing.RandomTranslation(height_factor=0.1, width_factor=0.1),\n",
        "\n",
        "  ]\n",
        ")"
      ]
    },
    {
      "cell_type": "markdown",
      "metadata": {
        "id": "gcLGhj-Bq7IU"
      },
      "source": [
        "**Original Image**"
      ]
    },
    {
      "cell_type": "code",
      "execution_count": 5,
      "metadata": {
        "scrolled": false,
        "colab": {
          "base_uri": "https://localhost:8080/",
          "height": 423
        },
        "id": "3oYIRfcgq7IU",
        "outputId": "981a8c57-505f-42e1-8c32-08809b0fbba3"
      },
      "outputs": [
        {
          "output_type": "execute_result",
          "data": {
            "text/plain": [
              "<matplotlib.image.AxesImage at 0x7c9d207eb100>"
            ]
          },
          "metadata": {},
          "execution_count": 5
        },
        {
          "output_type": "display_data",
          "data": {
            "text/plain": [
              "<Figure size 640x480 with 1 Axes>"
            ],
            "image/png": "[encoded data removed]"
          },
          "metadata": {}
        }
      ],
      "source": [
        "plt.axis('off')\n",
        "plt.imshow(X_train[0])"
      ]
    },
    {
      "cell_type": "markdown",
      "metadata": {
        "id": "7iMLHF3Dq7IU"
      },
      "source": [
        "**Newly generated training sample using data augmentation**"
      ]
    },
    {
      "cell_type": "code",
      "execution_count": 6,
      "metadata": {
        "scrolled": false,
        "colab": {
          "base_uri": "https://localhost:8080/",
          "height": 423
        },
        "id": "BLG58WDTq7IU",
        "outputId": "6f182dc4-ced2-4195-d3d8-1d8a3d1f9423"
      },
      "outputs": [
        {
          "output_type": "execute_result",
          "data": {
            "text/plain": [
              "<matplotlib.image.AxesImage at 0x7c9d207eb550>"
            ]
          },
          "metadata": {},
          "execution_count": 6
        },
        {
          "output_type": "display_data",
          "data": {
            "text/plain": [
              "<Figure size 640x480 with 1 Axes>"
            ],
            "image/png": "[encoded data removed]"
          },
          "metadata": {}
        }
      ],
      "source": [
        "plt.axis('off')\n",
        "plt.imshow(data_augmentation(X_train)[0].numpy().astype(\"uint8\"))"
      ]
    },
    {
      "cell_type": "markdown",
      "metadata": {
        "id": "Z_PSNfhaq7IU"
      },
      "source": [
        "<h3 style='color:purple'>Train the model using data augmentation and a drop out layer</h3>"
      ]
    },
    {
      "cell_type": "code",
      "execution_count": 7,
      "metadata": {
        "scrolled": false,
        "colab": {
          "base_uri": "https://localhost:8080/"
        },
        "id": "jPTLaBTQq7IU",
        "outputId": "ee93fb90-a95e-4151-fad8-3ed131fd2521"
      },
      "outputs": [
        {
          "output_type": "stream",
          "name": "stdout",
          "text": [
            "Epoch 1/30\n",
            "1563/1563 [==============================] - 14s 5ms/step - loss: 2.5916 - accuracy: 0.3664\n",
            "Epoch 2/30\n",
            "1563/1563 [==============================] - 8s 5ms/step - loss: 2.2677 - accuracy: 0.4777\n",
            "Epoch 3/30\n",
            "1563/1563 [==============================] - 7s 5ms/step - loss: 2.1263 - accuracy: 0.5230\n",
            "Epoch 4/30\n",
            "1563/1563 [==============================] - 8s 5ms/step - loss: 2.0271 - accuracy: 0.5533\n",
            "Epoch 5/30\n",
            "1563/1563 [==============================] - 7s 5ms/step - loss: 1.9632 - accuracy: 0.5709\n",
            "Epoch 6/30\n",
            "1563/1563 [==============================] - 7s 5ms/step - loss: 1.9143 - accuracy: 0.5829\n",
            "Epoch 7/30\n",
            "1563/1563 [==============================] - 8s 5ms/step - loss: 1.6794 - accuracy: 0.6162\n",
            "Epoch 8/30\n",
            "1563/1563 [==============================] - 7s 4ms/step - loss: 1.4000 - accuracy: 0.6556\n",
            "Epoch 9/30\n",
            "1563/1563 [==============================] - 8s 5ms/step - loss: 1.3665 - accuracy: 0.6642\n",
            "Epoch 10/30\n",
            "1563/1563 [==============================] - 7s 5ms/step - loss: 1.3382 - accuracy: 0.6750\n",
            "Epoch 11/30\n",
            "1563/1563 [==============================] - 8s 5ms/step - loss: 1.3137 - accuracy: 0.6812\n",
            "Epoch 12/30\n",
            "1563/1563 [==============================] - 9s 6ms/step - loss: 1.3001 - accuracy: 0.6854\n",
            "Epoch 13/30\n",
            "1563/1563 [==============================] - 7s 5ms/step - loss: 1.2837 - accuracy: 0.6906\n",
            "Epoch 14/30\n",
            "1563/1563 [==============================] - 8s 5ms/step - loss: 1.2675 - accuracy: 0.6960\n",
            "Epoch 15/30\n",
            "1563/1563 [==============================] - 7s 4ms/step - loss: 1.2541 - accuracy: 0.6975\n",
            "Epoch 16/30\n",
            "1563/1563 [==============================] - 8s 5ms/step - loss: 1.2421 - accuracy: 0.7010\n",
            "Epoch 17/30\n",
            "1563/1563 [==============================] - 7s 4ms/step - loss: 1.2301 - accuracy: 0.7032\n",
            "Epoch 18/30\n",
            "1563/1563 [==============================] - 8s 5ms/step - loss: 1.2278 - accuracy: 0.7069\n",
            "Epoch 19/30\n",
            "1563/1563 [==============================] - 7s 5ms/step - loss: 1.2151 - accuracy: 0.7086\n",
            "Epoch 20/30\n",
            "1563/1563 [==============================] - 7s 5ms/step - loss: 1.2081 - accuracy: 0.7118\n",
            "Epoch 21/30\n",
            "1563/1563 [==============================] - 8s 5ms/step - loss: 1.1961 - accuracy: 0.7150\n",
            "Epoch 22/30\n",
            "1563/1563 [==============================] - 7s 4ms/step - loss: 1.1875 - accuracy: 0.7148\n",
            "Epoch 23/30\n",
            "1563/1563 [==============================] - 8s 5ms/step - loss: 1.1760 - accuracy: 0.7213\n",
            "Epoch 24/30\n",
            "1563/1563 [==============================] - 7s 4ms/step - loss: 1.1758 - accuracy: 0.7202\n",
            "Epoch 25/30\n",
            "1563/1563 [==============================] - 9s 5ms/step - loss: 1.1702 - accuracy: 0.7213\n",
            "Epoch 26/30\n",
            "1563/1563 [==============================] - 7s 4ms/step - loss: 1.1607 - accuracy: 0.7234\n",
            "Epoch 27/30\n",
            "1563/1563 [==============================] - 8s 5ms/step - loss: 1.1579 - accuracy: 0.7253\n",
            "Epoch 28/30\n",
            "1563/1563 [==============================] - 7s 5ms/step - loss: 1.1490 - accuracy: 0.7274\n",
            "Epoch 29/30\n",
            "1563/1563 [==============================] - 7s 4ms/step - loss: 1.1483 - accuracy: 0.7274\n",
            "Epoch 30/30\n",
            "1563/1563 [==============================] - 8s 5ms/step - loss: 1.1460 - accuracy: 0.7285\n"
          ]
        },
        {
          "output_type": "execute_result",
          "data": {
            "text/plain": [
              "<keras.src.callbacks.History at 0x7c9ce013fa00>"
            ]
          },
          "metadata": {},
          "execution_count": 7
        }
      ],
      "source": [
        "\n",
        "model = Sequential([\n",
        "  data_augmentation,\n",
        "  layers.Conv2D(16, 3, padding='same', activation='relu'),\n",
        "  layers.MaxPooling2D(),\n",
        "  layers.Conv2D(32, 3, padding='same', activation='relu'),\n",
        "  layers.MaxPooling2D(),\n",
        "  layers.Conv2D(64, 3, padding='same', activation='relu'),\n",
        "  layers.MaxPooling2D(),\n",
        "  layers.Dropout(0.2),\n",
        "  layers.Flatten(),\n",
        "  layers.Dense(128, activation='relu'),\n",
        "\n",
        "])\n",
        "\n",
        "model.compile(optimizer='adam',\n",
        "              loss=tf.keras.losses.SparseCategoricalCrossentropy(from_logits=True),\n",
        "              metrics=['accuracy'])\n",
        "\n",
        "model.fit(X_train_scaled, y_train, epochs=30)"
      ]
    },
    {
      "cell_type": "code",
      "execution_count": 8,
      "metadata": {
        "colab": {
          "base_uri": "https://localhost:8080/"
        },
        "id": "qmoD6eu0q7IU",
        "outputId": "8cb277d6-f30b-4103-b518-5b054bf280c8"
      },
      "outputs": [
        {
          "output_type": "stream",
          "name": "stdout",
          "text": [
            "313/313 [==============================] - 1s 2ms/step - loss: 1.2383 - accuracy: 0.7143\n"
          ]
        },
        {
          "output_type": "execute_result",
          "data": {
            "text/plain": [
              "[1.2382744550704956, 0.7142999768257141]"
            ]
          },
          "metadata": {},
          "execution_count": 8
        }
      ],
      "source": [
        "model.evaluate(X_test_scaled,y_test)"
      ]
    }
  ],
  "metadata": {
    "kernelspec": {
      "display_name": "Python 3",
      "name": "python3"
    },
    "language_info": {
      "codemirror_mode": {
        "name": "ipython",
        "version": 3
      },
      "file_extension": ".py",
      "mimetype": "text/x-python",
      "name": "python",
      "nbconvert_exporter": "python",
      "pygments_lexer": "ipython3",
      "version": "3.8.5"
    },
    "colab": {
      "provenance": [],
      "gpuType": "T4",
      "include_colab_link": true
    },
    "accelerator": "GPU"
  },
  "nbformat": 4,
  "nbformat_minor": 0
}